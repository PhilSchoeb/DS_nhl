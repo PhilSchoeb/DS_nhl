{
 "cells": [
  {
   "cell_type": "code",
   "execution_count": 47,
   "id": "4e253ae0-bb9f-4693-a942-30b9eb5433ac",
   "metadata": {},
   "outputs": [],
   "source": [
    "import pandas as pd\n",
    "import datetime\n",
    "from random import randint\n",
    "from time import sleep\n",
    "import os\n",
    "from urllib.request import Request, urlopen\n",
    "import json\n",
    "import numpy as np"
   ]
  },
  {
   "cell_type": "code",
   "execution_count": 51,
   "id": "376ffee8-0644-4a0b-8381-71b5291374db",
   "metadata": {},
   "outputs": [],
   "source": [
    "# https://stackoverflow.com/questions/67475470/while-reading-json-data-from-url-using-python-gives-error-urllib-error-httperro\n",
    "url = \"https://api-web.nhle.com/v1/gamecenter/2022020001/play-by-play\"\n",
    "req = Request(url, headers={'User-Agent': 'Mozilla/5.0'})\n",
    "response = urlopen(req).read()\n",
    "data = json.loads(response)\n",
    "type(data)\n",
    "np.save(\"../data/test/first_download_test\", data)"
   ]
  },
  {
   "cell_type": "code",
   "execution_count": 30,
   "id": "be762a41-3c3c-4228-b01c-e3dc1a3af9ca",
   "metadata": {},
   "outputs": [
    {
     "name": "stdout",
     "output_type": "stream",
     "text": [
      "Retrieving data from 'https://api-web.nhle.com/v1/gamecenter/2022020001/play-by-play'...\n"
     ]
    },
    {
     "ename": "AttributeError",
     "evalue": "module 'pandas' has no attribute 'read'",
     "output_type": "error",
     "traceback": [
      "\u001b[0;31m---------------------------------------------------------------------------\u001b[0m",
      "\u001b[0;31mAttributeError\u001b[0m                            Traceback (most recent call last)",
      "Cell \u001b[0;32mIn[30], line 14\u001b[0m\n\u001b[1;32m      9\u001b[0m     \u001b[38;5;66;03m# urlplayoffs = 'https://statsapi.web.nhl.com/api/v1/game/{year}03{*}/feed/live/'\u001b[39;00m\n\u001b[1;32m     10\u001b[0m     \u001b[38;5;66;03m# print(f\"Retrieving data from '{urlplayoffs}'...\")\u001b[39;00m\n\u001b[1;32m     12\u001b[0m     \u001b[38;5;28;01mreturn\u001b[39;00m\n\u001b[0;32m---> 14\u001b[0m \u001b[43mget_year_data\u001b[49m\u001b[43m(\u001b[49m\u001b[38;5;124;43m\"\u001b[39;49m\u001b[38;5;124;43m2016\u001b[39;49m\u001b[38;5;124;43m\"\u001b[39;49m\u001b[43m)\u001b[49m\n",
      "Cell \u001b[0;32mIn[30], line 7\u001b[0m, in \u001b[0;36mget_year_data\u001b[0;34m(year)\u001b[0m\n\u001b[1;32m      5\u001b[0m \u001b[38;5;66;03m# urlseason = 'https://statsapi.web.nhl.com/api/v1/game/{}02{}/feed/live/'.format(year,\"0001\")\u001b[39;00m\n\u001b[1;32m      6\u001b[0m \u001b[38;5;28mprint\u001b[39m(\u001b[38;5;124mf\u001b[39m\u001b[38;5;124m\"\u001b[39m\u001b[38;5;124mRetrieving data from \u001b[39m\u001b[38;5;124m'\u001b[39m\u001b[38;5;132;01m{\u001b[39;00murlseason\u001b[38;5;132;01m}\u001b[39;00m\u001b[38;5;124m'\u001b[39m\u001b[38;5;124m...\u001b[39m\u001b[38;5;124m\"\u001b[39m)\n\u001b[0;32m----> 7\u001b[0m df \u001b[38;5;241m=\u001b[39m \u001b[43mpd\u001b[49m\u001b[38;5;241;43m.\u001b[39;49m\u001b[43mread\u001b[49m(urlseason, header\u001b[38;5;241m=\u001b[39m\u001b[38;5;241m1\u001b[39m)[\u001b[38;5;241m0\u001b[39m]\n\u001b[1;32m      9\u001b[0m \u001b[38;5;66;03m# urlplayoffs = 'https://statsapi.web.nhl.com/api/v1/game/{year}03{*}/feed/live/'\u001b[39;00m\n\u001b[1;32m     10\u001b[0m \u001b[38;5;66;03m# print(f\"Retrieving data from '{urlplayoffs}'...\")\u001b[39;00m\n\u001b[1;32m     12\u001b[0m \u001b[38;5;28;01mreturn\u001b[39;00m\n",
      "\u001b[0;31mAttributeError\u001b[0m: module 'pandas' has no attribute 'read'"
     ]
    }
   ],
   "source": [
    "# url = f'https://www.hockey-reference.com/leagues/NHL_{year}_{player_type}.html'\n",
    "\n",
    "def get_year_data(year) -> pd.DataFrame:\n",
    "    urlseason = 'https://api-web.nhle.com/v1/gamecenter/2022020001/play-by-play'\n",
    "    # urlseason = 'https://statsapi.web.nhl.com/api/v1/game/{}02{}/feed/live/'.format(year,\"0001\")\n",
    "    print(f\"Retrieving data from '{urlseason}'...\")\n",
    "    df = pd.read(urlseason, header=1)[0]\n",
    "    \n",
    "    # urlplayoffs = 'https://statsapi.web.nhl.com/api/v1/game/{year}03{*}/feed/live/'\n",
    "    # print(f\"Retrieving data from '{urlplayoffs}'...\")\n",
    "    \n",
    "    return\n",
    "\n",
    "get_year_data(\"2016\")"
   ]
  },
  {
   "cell_type": "code",
   "execution_count": null,
   "id": "a50a9559-12fa-491b-84b8-309549f2420b",
   "metadata": {},
   "outputs": [],
   "source": []
  }
 ],
 "metadata": {
  "kernelspec": {
   "display_name": "Python 3 (ipykernel)",
   "language": "python",
   "name": "python3"
  },
  "language_info": {
   "codemirror_mode": {
    "name": "ipython",
    "version": 3
   },
   "file_extension": ".py",
   "mimetype": "text/x-python",
   "name": "python",
   "nbconvert_exporter": "python",
   "pygments_lexer": "ipython3",
   "version": "3.11.0rc1"
  }
 },
 "nbformat": 4,
 "nbformat_minor": 5
}
